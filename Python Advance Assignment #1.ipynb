{
 "cells": [
  {
   "cell_type": "code",
   "execution_count": 1,
   "id": "89f1c50a",
   "metadata": {},
   "outputs": [],
   "source": [
    "# Q1. What is the purpose of Python's OOP?"
   ]
  },
  {
   "cell_type": "code",
   "execution_count": null,
   "id": "5f5bbcd1",
   "metadata": {},
   "outputs": [],
   "source": [
    "OOP can be considered as an entity which works as real world applications.\n",
    "It mainly consist of Classes & Objects which bind together to make our coding feasible."
   ]
  },
  {
   "cell_type": "code",
   "execution_count": null,
   "id": "60c84e93",
   "metadata": {},
   "outputs": [],
   "source": []
  },
  {
   "cell_type": "code",
   "execution_count": 2,
   "id": "a2aaefb5",
   "metadata": {},
   "outputs": [],
   "source": [
    "# Q2. Where does an inheritance search look for an attribute?"
   ]
  },
  {
   "cell_type": "code",
   "execution_count": null,
   "id": "336d2371",
   "metadata": {},
   "outputs": [],
   "source": [
    "First of all it looks in itself. In case it doesn't find then it moves to the parent class."
   ]
  },
  {
   "cell_type": "code",
   "execution_count": null,
   "id": "2caa1ebd",
   "metadata": {},
   "outputs": [],
   "source": []
  },
  {
   "cell_type": "code",
   "execution_count": 3,
   "id": "68e55339",
   "metadata": {},
   "outputs": [],
   "source": [
    "# Q3. How do you distinguish between a class object and an instance object?"
   ]
  },
  {
   "cell_type": "code",
   "execution_count": null,
   "id": "5aa14040",
   "metadata": {},
   "outputs": [],
   "source": [
    "Class Object is an element of the class through which we can perform actions defined in the class methods.\n",
    "Instance Object is an object whose type is of some class."
   ]
  },
  {
   "cell_type": "code",
   "execution_count": null,
   "id": "69264805",
   "metadata": {},
   "outputs": [],
   "source": []
  },
  {
   "cell_type": "code",
   "execution_count": 4,
   "id": "8f63d102",
   "metadata": {},
   "outputs": [],
   "source": [
    "# Q4. What makes the first argument in a class’s method function special?"
   ]
  },
  {
   "cell_type": "code",
   "execution_count": null,
   "id": "545166e3",
   "metadata": {},
   "outputs": [],
   "source": [
    "self is used as the first argument"
   ]
  },
  {
   "cell_type": "code",
   "execution_count": null,
   "id": "eeecc958",
   "metadata": {},
   "outputs": [],
   "source": []
  },
  {
   "cell_type": "code",
   "execution_count": 5,
   "id": "9963b9d6",
   "metadata": {},
   "outputs": [],
   "source": [
    "# Q5. What is the purpose of the __init__ method?"
   ]
  },
  {
   "cell_type": "code",
   "execution_count": null,
   "id": "279e8bca",
   "metadata": {},
   "outputs": [],
   "source": [
    "It is a constructor of class which gets called as soon as we create object from class."
   ]
  },
  {
   "cell_type": "code",
   "execution_count": null,
   "id": "5a28a2a6",
   "metadata": {},
   "outputs": [],
   "source": []
  },
  {
   "cell_type": "code",
   "execution_count": 6,
   "id": "84a3d44c",
   "metadata": {},
   "outputs": [],
   "source": [
    "# Q6. What is the process for creating a class instance?"
   ]
  },
  {
   "cell_type": "code",
   "execution_count": null,
   "id": "e0957d4d",
   "metadata": {},
   "outputs": [],
   "source": [
    "Class Ineuron:\n",
    "    pass\n",
    "obj = Ineuron()\n",
    "\n",
    "obj is object of class and this process is called instantiation."
   ]
  },
  {
   "cell_type": "code",
   "execution_count": null,
   "id": "8f9e8062",
   "metadata": {},
   "outputs": [],
   "source": []
  },
  {
   "cell_type": "code",
   "execution_count": 7,
   "id": "c65c0b22",
   "metadata": {},
   "outputs": [],
   "source": [
    "# Q7. What is the process for creating a class? "
   ]
  },
  {
   "cell_type": "code",
   "execution_count": null,
   "id": "6f1da0df",
   "metadata": {},
   "outputs": [],
   "source": [
    "class Ineuron:\n",
    "    pass\n",
    "\n",
    "class keyword is used followed by classname and then with indentation starts the suite of class."
   ]
  },
  {
   "cell_type": "code",
   "execution_count": null,
   "id": "a2e75df1",
   "metadata": {},
   "outputs": [],
   "source": []
  },
  {
   "cell_type": "code",
   "execution_count": 8,
   "id": "9772522a",
   "metadata": {},
   "outputs": [],
   "source": [
    "# Q8. How would you define the superclasses of a class?"
   ]
  },
  {
   "cell_type": "code",
   "execution_count": null,
   "id": "305eca13",
   "metadata": {},
   "outputs": [],
   "source": [
    "It can be seen as a class from which we can derive many sub-classes.\n",
    "Functions like super() can be used to call this parent class from child class"
   ]
  },
  {
   "cell_type": "code",
   "execution_count": null,
   "id": "2ad6a3df",
   "metadata": {},
   "outputs": [],
   "source": []
  }
 ],
 "metadata": {
  "kernelspec": {
   "display_name": "Python 3 (ipykernel)",
   "language": "python",
   "name": "python3"
  },
  "language_info": {
   "codemirror_mode": {
    "name": "ipython",
    "version": 3
   },
   "file_extension": ".py",
   "mimetype": "text/x-python",
   "name": "python",
   "nbconvert_exporter": "python",
   "pygments_lexer": "ipython3",
   "version": "3.9.12"
  }
 },
 "nbformat": 4,
 "nbformat_minor": 5
}
