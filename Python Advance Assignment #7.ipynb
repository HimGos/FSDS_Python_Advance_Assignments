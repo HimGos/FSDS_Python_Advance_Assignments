{
 "cells": [
  {
   "cell_type": "markdown",
   "id": "44f4a4fb",
   "metadata": {},
   "source": [
    "### Q1. What is the purpose of the try statement?"
   ]
  },
  {
   "cell_type": "code",
   "execution_count": null,
   "id": "27827101",
   "metadata": {},
   "outputs": [],
   "source": [
    "try statement allows us put error potential piece of code, if any error comes up in code written in block of try statement\n",
    "then it jumps to exception block and that prevents program from crashing."
   ]
  },
  {
   "cell_type": "code",
   "execution_count": 1,
   "id": "886c64f4",
   "metadata": {},
   "outputs": [
    {
     "name": "stdout",
     "output_type": "stream",
     "text": [
      "can only concatenate str (not \"int\") to str\n"
     ]
    }
   ],
   "source": [
    "try:\n",
    "    print('a' + 5)\n",
    "except Exception as e:\n",
    "    print(e)"
   ]
  },
  {
   "cell_type": "markdown",
   "id": "4baa1547",
   "metadata": {},
   "source": [
    "# "
   ]
  },
  {
   "cell_type": "markdown",
   "id": "52c2cc96",
   "metadata": {},
   "source": [
    "### Q2. What are the two most popular try statement variations?"
   ]
  },
  {
   "cell_type": "code",
   "execution_count": null,
   "id": "abbf52ff",
   "metadata": {},
   "outputs": [],
   "source": [
    "1. try, except\n",
    "2. try, except, finally\n",
    "\n",
    "First try block is executed and if there is any runtime error comes up within try block then it jumps to except block and \n",
    "raise exception mentioned there. Lastly finally block gets exceuted regardless of anything."
   ]
  },
  {
   "cell_type": "markdown",
   "id": "f41ca504",
   "metadata": {},
   "source": [
    "# "
   ]
  },
  {
   "cell_type": "markdown",
   "id": "8db2e72e",
   "metadata": {},
   "source": [
    "### Q3. What is the purpose of the raise statement?"
   ]
  },
  {
   "cell_type": "code",
   "execution_count": null,
   "id": "8a107ea4",
   "metadata": {},
   "outputs": [],
   "source": [
    "raise statement is used to raise exceptions or errors. Whenever raise statement gets executed, the flow of program stops.\n",
    "raise statements allows us to see the kind of error as well and allow us to write what error should be raised.\n",
    "\n",
    "raise (name of exception class)\n",
    "raise Exception(\"error text\")"
   ]
  },
  {
   "cell_type": "markdown",
   "id": "a450247d",
   "metadata": {},
   "source": [
    "#  "
   ]
  },
  {
   "cell_type": "markdown",
   "id": "d7ec0ca6",
   "metadata": {},
   "source": [
    "### Q4. What does the assert statement do, and what other statement is it like?"
   ]
  },
  {
   "cell_type": "code",
   "execution_count": null,
   "id": "4c9c07f8",
   "metadata": {},
   "outputs": [],
   "source": [
    "assert statement is mostly used for debugging purpose. \n",
    "Whenever a programmer want some parts of program to be always true, he can place assertion statements to check if there\n",
    "is any false statements in those points of code. \n",
    "\n",
    "An assertion error is raised when it find false statement."
   ]
  },
  {
   "cell_type": "code",
   "execution_count": 2,
   "id": "9a17422c",
   "metadata": {},
   "outputs": [
    {
     "ename": "AssertionError",
     "evalue": "invalid, 15 smaller than 20",
     "output_type": "error",
     "traceback": [
      "\u001b[1;31m---------------------------------------------------------------------------\u001b[0m",
      "\u001b[1;31mAssertionError\u001b[0m                            Traceback (most recent call last)",
      "Input \u001b[1;32mIn [2]\u001b[0m, in \u001b[0;36m<cell line: 1>\u001b[1;34m()\u001b[0m\n\u001b[1;32m----> 1\u001b[0m \u001b[38;5;28;01massert\u001b[39;00m (\u001b[38;5;241m15\u001b[39m\u001b[38;5;241m>\u001b[39m\u001b[38;5;241m20\u001b[39m), \u001b[38;5;124m'\u001b[39m\u001b[38;5;124minvalid, 15 smaller than 20\u001b[39m\u001b[38;5;124m'\u001b[39m\n",
      "\u001b[1;31mAssertionError\u001b[0m: invalid, 15 smaller than 20"
     ]
    }
   ],
   "source": [
    "assert (15>20), 'invalid, 15 smaller than 20'"
   ]
  },
  {
   "cell_type": "markdown",
   "id": "c1c114ea",
   "metadata": {},
   "source": [
    "# "
   ]
  },
  {
   "cell_type": "markdown",
   "id": "899353ce",
   "metadata": {},
   "source": [
    "### Q5. What is the purpose of the with/as argument, and what other statement is it like?"
   ]
  },
  {
   "cell_type": "code",
   "execution_count": null,
   "id": "5165b490",
   "metadata": {},
   "outputs": [],
   "source": [
    "with statement is used in exception handling to make the code clean. It is commonly used with file streams.\n",
    "Whenever we open a file or connection , it is advisable to close them. \n",
    "Using with statement, we don't have to care about closing them with close() methods. As soon with block ends, it closes the \n",
    "file/connection itself."
   ]
  }
 ],
 "metadata": {
  "kernelspec": {
   "display_name": "Python 3 (ipykernel)",
   "language": "python",
   "name": "python3"
  },
  "language_info": {
   "codemirror_mode": {
    "name": "ipython",
    "version": 3
   },
   "file_extension": ".py",
   "mimetype": "text/x-python",
   "name": "python",
   "nbconvert_exporter": "python",
   "pygments_lexer": "ipython3",
   "version": "3.9.12"
  }
 },
 "nbformat": 4,
 "nbformat_minor": 5
}
