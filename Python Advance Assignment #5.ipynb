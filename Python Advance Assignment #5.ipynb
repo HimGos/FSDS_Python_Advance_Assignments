{
 "cells": [
  {
   "cell_type": "markdown",
   "id": "0b95743b",
   "metadata": {},
   "source": [
    "### Q1. What is the meaning of multiple inheritance?"
   ]
  },
  {
   "cell_type": "code",
   "execution_count": null,
   "id": "e62664b5",
   "metadata": {},
   "outputs": [],
   "source": [
    "When one class inherits more than one class at once, this concept is called as multiple inheritence.\n",
    "\n",
    "Eg. class D(A,B,C):\n",
    "        pass"
   ]
  },
  {
   "cell_type": "markdown",
   "id": "3a5aaaa6",
   "metadata": {},
   "source": [
    "# "
   ]
  },
  {
   "cell_type": "markdown",
   "id": "ca378e07",
   "metadata": {},
   "source": [
    "### Q2. What is the concept of delegation?"
   ]
  },
  {
   "cell_type": "code",
   "execution_count": null,
   "id": "f20ca46b",
   "metadata": {},
   "outputs": [],
   "source": [
    "Delegation provides a proxy object for any class that we want on top of the main class. \n",
    "It is like a wrapper to our class so that we can access limited resources of the main class.\n",
    "\n",
    "It wraps the object of main class into a smaller object with limited access\n",
    "\n",
    "In simple terms, Delegation means that we can include an instance of another class as an instance variable, and forward messages to the instance."
   ]
  },
  {
   "cell_type": "code",
   "execution_count": 1,
   "id": "f13be698",
   "metadata": {},
   "outputs": [
    {
     "name": "stdout",
     "output_type": "stream",
     "text": [
      "This is IT shelf\n",
      "This is IT shelf\n",
      "This is IT shelf\n",
      "all categories\n"
     ]
    }
   ],
   "source": [
    "class Library:\n",
    "    def shelf(self):\n",
    "        print('This is IT shelf')\n",
    "    def category(self):\n",
    "        print('all categories')\n",
    "class DS:\n",
    "    def __init__(self,obj):\n",
    "        self.main = obj\n",
    "    def dsbook(self):\n",
    "        self.main.shelf()\n",
    "\n",
    "o1 = Library()        \n",
    "o2 = DS(o1)\n",
    "o1.shelf()\n",
    "o2.main.shelf()\n",
    "o2.dsbook()\n",
    "o2.main.category()"
   ]
  },
  {
   "cell_type": "markdown",
   "id": "d08e6a14",
   "metadata": {},
   "source": [
    "# "
   ]
  },
  {
   "cell_type": "markdown",
   "id": "36c568e8",
   "metadata": {},
   "source": [
    "### Q3. What is the concept of composition?"
   ]
  },
  {
   "cell_type": "code",
   "execution_count": null,
   "id": "376077c5",
   "metadata": {},
   "outputs": [],
   "source": [
    "In the concept of Composition, a class refers to one or more other classes by using instances of those classes as an instance variable. \n",
    "Irrespective of inheritence, In this approach all the parent class members are not inherited into child class, \n",
    "but only required methods from a class are used by using class instances."
   ]
  },
  {
   "cell_type": "code",
   "execution_count": 1,
   "id": "38da116a",
   "metadata": {},
   "outputs": [
    {
     "name": "stdout",
     "output_type": "stream",
     "text": [
      "Total profit : 144000.0\n"
     ]
    }
   ],
   "source": [
    "class Engine:\n",
    "    def __init__(self,cost):\n",
    "        self.cost = cost\n",
    "    def market_price(self):\n",
    "        return self.cost*1.2\n",
    "    \n",
    "class Factory:\n",
    "    def __init__(self,cost,produce):\n",
    "        self.cost = cost\n",
    "        self.produce = produce\n",
    "        self.obj_cost = Engine(self.cost)\n",
    "    def production(self):\n",
    "        return f'Total profit : {str(self.obj_cost.market_price())}'\n",
    "\n",
    "obj_fac = Factory(120000,450)\n",
    "print(obj_fac.production())"
   ]
  },
  {
   "cell_type": "markdown",
   "id": "427cfbc9",
   "metadata": {},
   "source": [
    "# "
   ]
  },
  {
   "cell_type": "markdown",
   "id": "0310e80b",
   "metadata": {},
   "source": [
    "### Q4. What are bound methods and how do we use them?"
   ]
  },
  {
   "cell_type": "code",
   "execution_count": null,
   "id": "f24dce2a",
   "metadata": {},
   "outputs": [],
   "source": [
    "If a function is an attribute of class and it is accessed via the instances, they are called bound methods. \n",
    "A bound method is one that has self as its first argument. \n",
    "Since these are dependent on the instance of classes, these are also known as instance methods."
   ]
  },
  {
   "cell_type": "code",
   "execution_count": 2,
   "id": "59c7f958",
   "metadata": {},
   "outputs": [
    {
     "name": "stdout",
     "output_type": "stream",
     "text": [
      "Maybach S650\n"
     ]
    },
    {
     "ename": "TypeError",
     "evalue": "cost() takes 0 positional arguments but 1 was given",
     "output_type": "error",
     "traceback": [
      "\u001b[1;31m---------------------------------------------------------------------------\u001b[0m",
      "\u001b[1;31mTypeError\u001b[0m                                 Traceback (most recent call last)",
      "Input \u001b[1;32mIn [2]\u001b[0m, in \u001b[0;36m<cell line: 9>\u001b[1;34m()\u001b[0m\n\u001b[0;32m      7\u001b[0m c \u001b[38;5;241m=\u001b[39m Car()\n\u001b[0;32m      8\u001b[0m c\u001b[38;5;241m.\u001b[39mmodel()\n\u001b[1;32m----> 9\u001b[0m \u001b[43mc\u001b[49m\u001b[38;5;241;43m.\u001b[39;49m\u001b[43mcost\u001b[49m\u001b[43m(\u001b[49m\u001b[43m)\u001b[49m\n",
      "\u001b[1;31mTypeError\u001b[0m: cost() takes 0 positional arguments but 1 was given"
     ]
    }
   ],
   "source": [
    "class Car:\n",
    "    def model(self):\n",
    "        print(\"Maybach S650\")\n",
    "    def cost():\n",
    "        print(\"$175K\")\n",
    "\n",
    "c = Car()\n",
    "c.model()\n",
    "c.cost()\n",
    "\n",
    "# This shows model() is bound method and cost() is static method"
   ]
  },
  {
   "cell_type": "markdown",
   "id": "4387505a",
   "metadata": {},
   "source": [
    "# "
   ]
  },
  {
   "cell_type": "markdown",
   "id": "4acc89a9",
   "metadata": {},
   "source": [
    "### Q5. What is the purpose of pseudoprivate attributes?"
   ]
  },
  {
   "cell_type": "raw",
   "id": "ee87c841",
   "metadata": {},
   "source": [
    "Pseudoprivate attributes are also useful in larger frameworks or tools, both to avoid introducing new method names that \n",
    "might accidentally hide definitions elsewhere in the class tree and to reduce the chance of internal methods being replaced \n",
    "by names defined lower in the tree. \n",
    "\n",
    "If a method is intended for use only within a class that may be mixed into other classes, the double underscore prefix \n",
    "ensures that the method won't interfere with other names in the tree, especially in multiple-inheritance scenarios.\n",
    "\n",
    "Pseudoprivate names also prevent subclasses from accidentally redefining the internal method's names,"
   ]
  }
 ],
 "metadata": {
  "kernelspec": {
   "display_name": "Python 3 (ipykernel)",
   "language": "python",
   "name": "python3"
  },
  "language_info": {
   "codemirror_mode": {
    "name": "ipython",
    "version": 3
   },
   "file_extension": ".py",
   "mimetype": "text/x-python",
   "name": "python",
   "nbconvert_exporter": "python",
   "pygments_lexer": "ipython3",
   "version": "3.9.12"
  }
 },
 "nbformat": 4,
 "nbformat_minor": 5
}
