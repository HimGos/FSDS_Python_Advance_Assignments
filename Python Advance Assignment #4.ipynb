{
 "cells": [
  {
   "cell_type": "markdown",
   "id": "074127f1",
   "metadata": {},
   "source": [
    "### Q1. Which two operator overloading methods can you use in your classes to support iteration?"
   ]
  },
  {
   "cell_type": "code",
   "execution_count": null,
   "id": "d4ea0ff3",
   "metadata": {},
   "outputs": [],
   "source": [
    "__iter__ and __next__ are two operator overloading methods that support iteration"
   ]
  },
  {
   "cell_type": "markdown",
   "id": "9bf55dbf",
   "metadata": {},
   "source": [
    "# "
   ]
  },
  {
   "cell_type": "markdown",
   "id": "60b53d68",
   "metadata": {},
   "source": [
    "### Q2. In what contexts do the two operator overloading methods manage printing?"
   ]
  },
  {
   "cell_type": "code",
   "execution_count": null,
   "id": "0a90b359",
   "metadata": {},
   "outputs": [],
   "source": [
    "__str__ and __repr__ are two operator overloading methods that manage printing.\n",
    "__str__ gets cakked wgeb we are printing an object reference internally. It's human readable\n",
    "__repr__ defines behavious when we pass an insance of a class to the repr(). It's machine readable."
   ]
  },
  {
   "cell_type": "markdown",
   "id": "a0fe595f",
   "metadata": {},
   "source": [
    "# "
   ]
  },
  {
   "cell_type": "markdown",
   "id": "77563444",
   "metadata": {},
   "source": [
    "### Q3. In a class, how do you intercept slice operations?"
   ]
  },
  {
   "cell_type": "code",
   "execution_count": null,
   "id": "f1c5c356",
   "metadata": {},
   "outputs": [],
   "source": [
    "__getitem__(slice(start,stop,step))\n",
    "is used for intercept slice operation."
   ]
  },
  {
   "cell_type": "markdown",
   "id": "a6bd2544",
   "metadata": {},
   "source": [
    "# "
   ]
  },
  {
   "cell_type": "markdown",
   "id": "3acf8cb7",
   "metadata": {},
   "source": [
    "### Q4. In a class, how do you capture in-place addition?"
   ]
  },
  {
   "cell_type": "code",
   "execution_count": null,
   "id": "b6129298",
   "metadata": {},
   "outputs": [],
   "source": [
    "For in-place addition outside class we use this operator ->  += \n",
    "eg. 4 += 2  -> 6\n",
    "\n",
    "Inside class we need to define __iadd__() methodthat take two arguments, self and other, updates the first argument self with\n",
    "the result of the addition, and returns the updated object."
   ]
  },
  {
   "cell_type": "code",
   "execution_count": 2,
   "id": "bd50d517",
   "metadata": {},
   "outputs": [
    {
     "name": "stdout",
     "output_type": "stream",
     "text": [
      "350\n"
     ]
    }
   ],
   "source": [
    "class Record:\n",
    "    def __init__(self,first):\n",
    "        self.first = first\n",
    "    def __iadd__(self,other):\n",
    "        self.first += other.first\n",
    "        return self.first\n",
    "    \n",
    "rec1 = Record(200)\n",
    "rec2 = Record(150)\n",
    "rec1 += rec2\n",
    "print(rec1)"
   ]
  },
  {
   "cell_type": "markdown",
   "id": "00e078b7",
   "metadata": {},
   "source": [
    "# "
   ]
  },
  {
   "cell_type": "markdown",
   "id": "c6555f51",
   "metadata": {},
   "source": [
    "### Q5. When is it appropriate to use operator overloading?"
   ]
  },
  {
   "cell_type": "code",
   "execution_count": null,
   "id": "39748b9c",
   "metadata": {},
   "outputs": [],
   "source": [
    "Operator overloading is used when we want to use an operator other than its normal operation to have different \n",
    "meaning according to the context required in user defined function."
   ]
  },
  {
   "cell_type": "code",
   "execution_count": 4,
   "id": "8546c150",
   "metadata": {},
   "outputs": [
    {
     "name": "stdout",
     "output_type": "stream",
     "text": [
      "350\n"
     ]
    }
   ],
   "source": [
    "class Record:\n",
    "    def __init__(self,first):\n",
    "        self.first = first\n",
    "    def __add__(self,other):\n",
    "        return self.first + other.first\n",
    "    \n",
    "rec1 = Record(200)\n",
    "rec2 = Record(150)\n",
    "print(rec1 + rec2)"
   ]
  },
  {
   "cell_type": "code",
   "execution_count": null,
   "id": "0c3a1ecd",
   "metadata": {},
   "outputs": [],
   "source": []
  }
 ],
 "metadata": {
  "kernelspec": {
   "display_name": "Python 3 (ipykernel)",
   "language": "python",
   "name": "python3"
  },
  "language_info": {
   "codemirror_mode": {
    "name": "ipython",
    "version": 3
   },
   "file_extension": ".py",
   "mimetype": "text/x-python",
   "name": "python",
   "nbconvert_exporter": "python",
   "pygments_lexer": "ipython3",
   "version": "3.9.12"
  }
 },
 "nbformat": 4,
 "nbformat_minor": 5
}
