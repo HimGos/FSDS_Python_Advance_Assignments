{
 "cells": [
  {
   "cell_type": "code",
   "execution_count": 1,
   "id": "2f8a8088",
   "metadata": {},
   "outputs": [],
   "source": [
    "# Q1. What is the relationship between classes and modules?"
   ]
  },
  {
   "cell_type": "code",
   "execution_count": null,
   "id": "b5cba025",
   "metadata": {},
   "outputs": [],
   "source": [
    "Class is a structure which comprise of data and functions together.\n",
    "While Module is a file inside a package or can be seen as small package having organized code. "
   ]
  },
  {
   "cell_type": "code",
   "execution_count": null,
   "id": "d827a9c9",
   "metadata": {},
   "outputs": [],
   "source": []
  },
  {
   "cell_type": "code",
   "execution_count": 3,
   "id": "59fdc92e",
   "metadata": {},
   "outputs": [],
   "source": [
    "# Q2. How do you make instances and classes?"
   ]
  },
  {
   "cell_type": "code",
   "execution_count": null,
   "id": "a34dfc95",
   "metadata": {},
   "outputs": [],
   "source": [
    "class is made using keyword - class\n",
    "Instances are objects of a class can be made ->  obj = classname()"
   ]
  },
  {
   "cell_type": "code",
   "execution_count": null,
   "id": "ccec14f1",
   "metadata": {},
   "outputs": [],
   "source": []
  },
  {
   "cell_type": "code",
   "execution_count": 4,
   "id": "eadd52ee",
   "metadata": {},
   "outputs": [],
   "source": [
    "# Q3. Where and how should be class attributes created?"
   ]
  },
  {
   "cell_type": "code",
   "execution_count": null,
   "id": "0df5ad39",
   "metadata": {},
   "outputs": [],
   "source": [
    "Class attributes are created within class and outside any method within class.\n",
    "Eg. \n",
    "\n",
    "class Ineuron:\n",
    "    ceo = 'Mr. Sudhanshu'\n",
    "\n",
    "This ceo is class attribute."
   ]
  },
  {
   "cell_type": "code",
   "execution_count": null,
   "id": "dde764b7",
   "metadata": {},
   "outputs": [],
   "source": []
  },
  {
   "cell_type": "code",
   "execution_count": 5,
   "id": "0c07ec72",
   "metadata": {},
   "outputs": [],
   "source": [
    "# Q4. Where and how are instance attributes created?"
   ]
  },
  {
   "cell_type": "code",
   "execution_count": null,
   "id": "3ff8dc40",
   "metadata": {},
   "outputs": [],
   "source": [
    "Instance attributes are created within __init__() of a class.\n",
    "\n",
    "class Ineuron:\n",
    "    def __init__(self):\n",
    "        ceo = 'Mr. Sudhanshu'\n",
    "        \n",
    "Here ceo is now instance attribute"
   ]
  },
  {
   "cell_type": "code",
   "execution_count": null,
   "id": "d1638d67",
   "metadata": {},
   "outputs": [],
   "source": []
  },
  {
   "cell_type": "code",
   "execution_count": 6,
   "id": "7fc04fe6",
   "metadata": {},
   "outputs": [],
   "source": [
    "# Q5. What does the term 'self' in a Python class mean?"
   ]
  },
  {
   "cell_type": "code",
   "execution_count": null,
   "id": "47fb1325",
   "metadata": {},
   "outputs": [],
   "source": [
    "Self can be seen a pointer towards the class. It is used to represent the instance of a class."
   ]
  },
  {
   "cell_type": "code",
   "execution_count": null,
   "id": "c0875a61",
   "metadata": {},
   "outputs": [],
   "source": []
  },
  {
   "cell_type": "code",
   "execution_count": 7,
   "id": "5e0b1f1b",
   "metadata": {},
   "outputs": [],
   "source": [
    "# Q6. How does a Python class handle operator overloading?"
   ]
  },
  {
   "cell_type": "code",
   "execution_count": null,
   "id": "1a46ba16",
   "metadata": {},
   "outputs": [],
   "source": [
    "When we use certain built-in operator like +,-,* etc, then python provokes magic methods (methods within classes running the operator)\n",
    "which allows the operator to perform task even with different data type of object.\n",
    "Special functions operate these tasks automatically."
   ]
  },
  {
   "cell_type": "code",
   "execution_count": null,
   "id": "cc034734",
   "metadata": {},
   "outputs": [],
   "source": []
  },
  {
   "cell_type": "code",
   "execution_count": 8,
   "id": "ccb1a274",
   "metadata": {},
   "outputs": [],
   "source": [
    "# Q7. When do you consider allowing operator overloading of your classes?"
   ]
  },
  {
   "cell_type": "code",
   "execution_count": null,
   "id": "1ffc399e",
   "metadata": {},
   "outputs": [],
   "source": [
    "It can be allowed when we have created a class which is dynamic and can accept various datatypes.\n",
    "In that case, using operator overloading concept can come in handy.\n",
    "But if not used correctly then user may get unwanted return."
   ]
  },
  {
   "cell_type": "code",
   "execution_count": null,
   "id": "06d64a31",
   "metadata": {},
   "outputs": [],
   "source": []
  },
  {
   "cell_type": "code",
   "execution_count": null,
   "id": "012fb431",
   "metadata": {},
   "outputs": [],
   "source": [
    "# Q8. What is the most popular form of operator overloading?"
   ]
  },
  {
   "cell_type": "code",
   "execution_count": null,
   "id": "851deba8",
   "metadata": {},
   "outputs": [],
   "source": [
    "+ and * can be seen as most popular forms, where + being on top. \n",
    "We can add int, str, list, float etc."
   ]
  },
  {
   "cell_type": "code",
   "execution_count": null,
   "id": "48198e6d",
   "metadata": {},
   "outputs": [],
   "source": []
  },
  {
   "cell_type": "code",
   "execution_count": 9,
   "id": "e655936f",
   "metadata": {},
   "outputs": [],
   "source": [
    "# Q9. What are the two most important concepts to grasp in order to comprehend Python OOP code?"
   ]
  },
  {
   "cell_type": "code",
   "execution_count": null,
   "id": "a90daffc",
   "metadata": {},
   "outputs": [],
   "source": [
    "Inheritence and Polymorphism"
   ]
  }
 ],
 "metadata": {
  "kernelspec": {
   "display_name": "Python 3 (ipykernel)",
   "language": "python",
   "name": "python3"
  },
  "language_info": {
   "codemirror_mode": {
    "name": "ipython",
    "version": 3
   },
   "file_extension": ".py",
   "mimetype": "text/x-python",
   "name": "python",
   "nbconvert_exporter": "python",
   "pygments_lexer": "ipython3",
   "version": "3.9.12"
  }
 },
 "nbformat": 4,
 "nbformat_minor": 5
}
