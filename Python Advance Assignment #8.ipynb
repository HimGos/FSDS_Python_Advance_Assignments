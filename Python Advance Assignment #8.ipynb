{
 "cells": [
  {
   "cell_type": "markdown",
   "id": "2afdf150",
   "metadata": {},
   "source": [
    "### Q1. What are the two latest user-defined exception constraints in Python 3.X?"
   ]
  },
  {
   "cell_type": "code",
   "execution_count": null,
   "id": "c6d1c25a",
   "metadata": {},
   "outputs": [],
   "source": [
    "raise and assert are the two latest user defined exception constraints."
   ]
  },
  {
   "cell_type": "markdown",
   "id": "711edb23",
   "metadata": {},
   "source": [
    "# "
   ]
  },
  {
   "cell_type": "markdown",
   "id": "d27fa04d",
   "metadata": {},
   "source": [
    "### Q2. How are class-based exceptions that have been raised matched to handlers?"
   ]
  },
  {
   "cell_type": "code",
   "execution_count": null,
   "id": "15ece533",
   "metadata": {},
   "outputs": [],
   "source": [
    "class based exceptions are quite effective and comes in handy when we wish to raise some custom exceptions.\n",
    "Exception class has to be derived either directly or indrectly from built-in Exceptionc class."
   ]
  },
  {
   "cell_type": "code",
   "execution_count": 4,
   "id": "c9680c1a",
   "metadata": {},
   "outputs": [
    {
     "ename": "iNeuronCheck",
     "evalue": "Showing less number of courses",
     "output_type": "error",
     "traceback": [
      "\u001b[1;31m---------------------------------------------------------------------------\u001b[0m",
      "\u001b[1;31miNeuronCheck\u001b[0m                              Traceback (most recent call last)",
      "Input \u001b[1;32mIn [4]\u001b[0m, in \u001b[0;36m<cell line: 6>\u001b[1;34m()\u001b[0m\n\u001b[0;32m      3\u001b[0m         \u001b[38;5;28mself\u001b[39m\u001b[38;5;241m.\u001b[39mmsg \u001b[38;5;241m=\u001b[39m msg\n\u001b[0;32m      5\u001b[0m total_courses \u001b[38;5;241m=\u001b[39m \u001b[38;5;241m239\u001b[39m\n\u001b[1;32m----> 6\u001b[0m \u001b[38;5;28;01mif\u001b[39;00m total_courses \u001b[38;5;241m>\u001b[39m\u001b[38;5;241m=\u001b[39m \u001b[38;5;241m230\u001b[39m : \u001b[38;5;28;01mraise\u001b[39;00m iNeuronCheck(\u001b[38;5;124m'\u001b[39m\u001b[38;5;124mShowing less number of courses\u001b[39m\u001b[38;5;124m'\u001b[39m)\n",
      "\u001b[1;31miNeuronCheck\u001b[0m: Showing less number of courses"
     ]
    }
   ],
   "source": [
    "class iNeuronCheck(Exception):\n",
    "    def __init__(self,msg):\n",
    "        self.msg = msg\n",
    "\n",
    "total_courses = 239\n",
    "if total_courses >= 230 : raise iNeuronCheck('Showing less number of courses')"
   ]
  },
  {
   "cell_type": "markdown",
   "id": "d64f5deb",
   "metadata": {},
   "source": [
    "# "
   ]
  },
  {
   "cell_type": "markdown",
   "id": "c2b75505",
   "metadata": {},
   "source": [
    "### Q3. Describe two methods for attaching context information to exception artefacts."
   ]
  },
  {
   "cell_type": "code",
   "execution_count": null,
   "id": "2f2ba268",
   "metadata": {},
   "outputs": [],
   "source": [
    "An easy way in which you can pass contextual information to be output along with logging event information \n",
    "is to use the LoggerAdapter class.\n",
    "\n",
    "The process() method of LoggerAdapter is where the contextual information is added to the logging output. \n",
    "It passes the message and keyword arguments of the logging call, and it passes back modified versions of these \n",
    "to use in the call to the underlying logger.\n",
    "\n",
    "Other method that can be used is exception(), Logs a messgae with level ERROR on this logger"
   ]
  },
  {
   "cell_type": "markdown",
   "id": "9e717289",
   "metadata": {},
   "source": [
    "# "
   ]
  },
  {
   "cell_type": "markdown",
   "id": "f7a71860",
   "metadata": {},
   "source": [
    "### Q4. Describe two methods for specifying the text of an exception object's error message ?"
   ]
  },
  {
   "cell_type": "code",
   "execution_count": null,
   "id": "eef1123e",
   "metadata": {},
   "outputs": [],
   "source": [
    "raise and assert methods are used for specifying the text of an exception object's error message. \n",
    "\n",
    "raise statement is used to trigger explicit exception, if certain condition is not as per requirement of programmer.\n",
    "It helps in triggering exception as per need of programmer and logic.\n",
    "\n",
    "There are few assertions that programmer always want to be True to avoid code failure.\n",
    "This type of requirment is fullfilled by assert statement. "
   ]
  },
  {
   "cell_type": "markdown",
   "id": "f72787c7",
   "metadata": {},
   "source": [
    "# "
   ]
  },
  {
   "cell_type": "markdown",
   "id": "0faf170c",
   "metadata": {},
   "source": [
    "### Q5. Why do you no longer use string-based exceptions?"
   ]
  },
  {
   "cell_type": "code",
   "execution_count": null,
   "id": "e5c707cc",
   "metadata": {},
   "outputs": [],
   "source": [
    "String-based Exceptions doesn't inherit from Exceptions. So plain exceptions catch all exceptions and not only system."
   ]
  }
 ],
 "metadata": {
  "kernelspec": {
   "display_name": "Python 3 (ipykernel)",
   "language": "python",
   "name": "python3"
  },
  "language_info": {
   "codemirror_mode": {
    "name": "ipython",
    "version": 3
   },
   "file_extension": ".py",
   "mimetype": "text/x-python",
   "name": "python",
   "nbconvert_exporter": "python",
   "pygments_lexer": "ipython3",
   "version": "3.9.12"
  }
 },
 "nbformat": 4,
 "nbformat_minor": 5
}
