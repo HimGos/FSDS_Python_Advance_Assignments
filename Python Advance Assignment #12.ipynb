{
 "cells": [
  {
   "cell_type": "markdown",
   "id": "2aee23a6",
   "metadata": {},
   "source": [
    "### Q1. Does assigning a value to a string's indexed character violate Python's string immutability?"
   ]
  },
  {
   "cell_type": "code",
   "execution_count": 1,
   "id": "c7241ce0",
   "metadata": {},
   "outputs": [
    {
     "ename": "TypeError",
     "evalue": "'str' object does not support item assignment",
     "output_type": "error",
     "traceback": [
      "\u001b[1;31m---------------------------------------------------------------------------\u001b[0m",
      "\u001b[1;31mTypeError\u001b[0m                                 Traceback (most recent call last)",
      "Input \u001b[1;32mIn [1]\u001b[0m, in \u001b[0;36m<cell line: 2>\u001b[1;34m()\u001b[0m\n\u001b[0;32m      1\u001b[0m a \u001b[38;5;241m=\u001b[39m \u001b[38;5;124m'\u001b[39m\u001b[38;5;124mhello\u001b[39m\u001b[38;5;124m'\u001b[39m\n\u001b[1;32m----> 2\u001b[0m a[\u001b[38;5;241m1\u001b[39m] \u001b[38;5;241m=\u001b[39m \u001b[38;5;124m'\u001b[39m\u001b[38;5;124mc\u001b[39m\u001b[38;5;124m'\u001b[39m\n",
      "\u001b[1;31mTypeError\u001b[0m: 'str' object does not support item assignment"
     ]
    }
   ],
   "source": [
    "a = 'hello'\n",
    "a[1] = 'c'"
   ]
  },
  {
   "cell_type": "code",
   "execution_count": null,
   "id": "bcaeda58",
   "metadata": {},
   "outputs": [],
   "source": [
    "Yes it does violate string immutability. It raised TypeError."
   ]
  },
  {
   "cell_type": "markdown",
   "id": "77cc23c4",
   "metadata": {},
   "source": [
    "# "
   ]
  },
  {
   "cell_type": "markdown",
   "id": "f182f5c1",
   "metadata": {},
   "source": [
    "### Q2. Does using the += operator to concatenate strings violate Python's string immutability? Why or why not?"
   ]
  },
  {
   "cell_type": "code",
   "execution_count": 3,
   "id": "aecad8a6",
   "metadata": {},
   "outputs": [
    {
     "data": {
      "text/plain": [
       "'helloworld'"
      ]
     },
     "execution_count": 3,
     "metadata": {},
     "output_type": "execute_result"
    }
   ],
   "source": [
    "a = 'hello'\n",
    "a += 'world'\n",
    "a"
   ]
  },
  {
   "cell_type": "code",
   "execution_count": null,
   "id": "8235f924",
   "metadata": {},
   "outputs": [],
   "source": [
    "It allowed us to concatenate this way because we aren't violating the initial original indexes of string. Whatever we have added\n",
    "has been appended with new index."
   ]
  },
  {
   "cell_type": "markdown",
   "id": "7c0e2e18",
   "metadata": {},
   "source": [
    "# "
   ]
  },
  {
   "cell_type": "markdown",
   "id": "872bbbf8",
   "metadata": {},
   "source": [
    "### Q3. In Python, how many different ways are there to index a character?"
   ]
  },
  {
   "cell_type": "code",
   "execution_count": null,
   "id": "c0e30158",
   "metadata": {},
   "outputs": [],
   "source": [
    "A character in string can be indexed using string name followed by index number of characters in square bracket.\n",
    "Positive Indexing i.e. first index is 0 and so on, or\n",
    "Negative Indexing i.e. last letter is -1 and so on can be used to index a character"
   ]
  },
  {
   "cell_type": "code",
   "execution_count": 11,
   "id": "314253a3",
   "metadata": {},
   "outputs": [
    {
     "name": "stdout",
     "output_type": "stream",
     "text": [
      "e S\n",
      "s a\n"
     ]
    }
   ],
   "source": [
    "a = 'Hello Data Scientist'\n",
    "print(a[1], a[11])     # Positive Indexing\n",
    "print(a[-2], a[-11])   # Negative Indexing"
   ]
  },
  {
   "cell_type": "markdown",
   "id": "90c71ed5",
   "metadata": {},
   "source": [
    "# "
   ]
  },
  {
   "cell_type": "markdown",
   "id": "7ad9a78e",
   "metadata": {},
   "source": [
    "### Q4. What is the relationship between indexing and slicing?"
   ]
  },
  {
   "cell_type": "code",
   "execution_count": null,
   "id": "2fee532e",
   "metadata": {},
   "outputs": [],
   "source": [
    "During slicing operations we actively require index numbers. Without them we can't perform slicing operation."
   ]
  },
  {
   "cell_type": "code",
   "execution_count": 6,
   "id": "daf1fe0e",
   "metadata": {},
   "outputs": [
    {
     "data": {
      "text/plain": [
       "'el'"
      ]
     },
     "execution_count": 6,
     "metadata": {},
     "output_type": "execute_result"
    }
   ],
   "source": [
    "# Example...\n",
    "a = 'Hello World'\n",
    "\n",
    "# To perform slicing operation we need index of characters in the above string.\n",
    "a[1:3]"
   ]
  },
  {
   "cell_type": "markdown",
   "id": "44c25b9e",
   "metadata": {},
   "source": [
    "# "
   ]
  },
  {
   "cell_type": "markdown",
   "id": "0eba97e8",
   "metadata": {},
   "source": [
    "### Q5. What is an indexed character's exact data type? What is the data form of a slicing-generated substring?"
   ]
  },
  {
   "cell_type": "code",
   "execution_count": 7,
   "id": "62b8d298",
   "metadata": {},
   "outputs": [
    {
     "data": {
      "text/plain": [
       "str"
      ]
     },
     "execution_count": 7,
     "metadata": {},
     "output_type": "execute_result"
    }
   ],
   "source": [
    "type(a[1:3])     "
   ]
  },
  {
   "cell_type": "code",
   "execution_count": 8,
   "id": "e4e03849",
   "metadata": {},
   "outputs": [
    {
     "data": {
      "text/plain": [
       "int"
      ]
     },
     "execution_count": 8,
     "metadata": {},
     "output_type": "execute_result"
    }
   ],
   "source": [
    "type(a.find('e'))"
   ]
  },
  {
   "cell_type": "markdown",
   "id": "174cca30",
   "metadata": {},
   "source": [
    "Indexed characters data type is INT while data form of slicing-generated substring is STR."
   ]
  },
  {
   "cell_type": "markdown",
   "id": "b1ce33e8",
   "metadata": {},
   "source": [
    "# "
   ]
  },
  {
   "cell_type": "markdown",
   "id": "aedd0277",
   "metadata": {},
   "source": [
    "### Q6. What is the relationship between string and character 'types' in Python?"
   ]
  },
  {
   "cell_type": "code",
   "execution_count": null,
   "id": "615119b9",
   "metadata": {},
   "outputs": [],
   "source": [
    "Objects that contain sequence of character datatypes are called String."
   ]
  },
  {
   "cell_type": "markdown",
   "id": "f7484432",
   "metadata": {},
   "source": [
    "# "
   ]
  },
  {
   "cell_type": "markdown",
   "id": "3002d223",
   "metadata": {},
   "source": [
    "### Q7. Identify at least two operators and one method that allow you to combine one or more smaller strings to create a larger string."
   ]
  },
  {
   "cell_type": "code",
   "execution_count": null,
   "id": "7377255b",
   "metadata": {},
   "outputs": [],
   "source": [
    "+ and * operator allows us to combine strings.\n",
    "string.join(<iterable>) method allows us to combine iterables like list to get a combined string"
   ]
  },
  {
   "cell_type": "markdown",
   "id": "ed787d64",
   "metadata": {},
   "source": [
    "# "
   ]
  },
  {
   "cell_type": "markdown",
   "id": "ce2efad0",
   "metadata": {},
   "source": [
    "### Q8. What is the benefit of first checking the target string with in or not in before using the index method to find a substring?"
   ]
  },
  {
   "cell_type": "code",
   "execution_count": 9,
   "id": "affff945",
   "metadata": {},
   "outputs": [],
   "source": [
    "a = 'hello'\n",
    "if 'c' in a:\n",
    "    a.index('c')"
   ]
  },
  {
   "cell_type": "code",
   "execution_count": 10,
   "id": "b4c577bb",
   "metadata": {},
   "outputs": [
    {
     "ename": "ValueError",
     "evalue": "substring not found",
     "output_type": "error",
     "traceback": [
      "\u001b[1;31m---------------------------------------------------------------------------\u001b[0m",
      "\u001b[1;31mValueError\u001b[0m                                Traceback (most recent call last)",
      "Input \u001b[1;32mIn [10]\u001b[0m, in \u001b[0;36m<cell line: 1>\u001b[1;34m()\u001b[0m\n\u001b[1;32m----> 1\u001b[0m \u001b[43ma\u001b[49m\u001b[38;5;241;43m.\u001b[39;49m\u001b[43mindex\u001b[49m\u001b[43m(\u001b[49m\u001b[38;5;124;43m'\u001b[39;49m\u001b[38;5;124;43mc\u001b[39;49m\u001b[38;5;124;43m'\u001b[39;49m\u001b[43m)\u001b[49m\n",
      "\u001b[1;31mValueError\u001b[0m: substring not found"
     ]
    }
   ],
   "source": [
    "a.index('c')"
   ]
  },
  {
   "cell_type": "code",
   "execution_count": null,
   "id": "b78486b3",
   "metadata": {},
   "outputs": [],
   "source": [
    "In above example we saw that when we didnt used - in - then we got an error that substring not found. \n",
    "Using in saved us from error."
   ]
  },
  {
   "cell_type": "markdown",
   "id": "4560dc2d",
   "metadata": {},
   "source": [
    "# "
   ]
  },
  {
   "cell_type": "markdown",
   "id": "c7bd3e49",
   "metadata": {},
   "source": [
    "### Q9. Which operators and built-in string methods produce simple Boolean (true/false) results?"
   ]
  },
  {
   "cell_type": "code",
   "execution_count": null,
   "id": "c600cb4a",
   "metadata": {},
   "outputs": [],
   "source": [
    "Operators ->   \n",
    "in , not\n",
    "\n",
    "Methods ->\n",
    "a.isalnum(), a.isalpha(), a.isascii(), a.isdecimal()\n",
    "a.islower(), a.isupper(), a.isnumeric(), a.isidentifier()"
   ]
  }
 ],
 "metadata": {
  "kernelspec": {
   "display_name": "Python 3 (ipykernel)",
   "language": "python",
   "name": "python3"
  },
  "language_info": {
   "codemirror_mode": {
    "name": "ipython",
    "version": 3
   },
   "file_extension": ".py",
   "mimetype": "text/x-python",
   "name": "python",
   "nbconvert_exporter": "python",
   "pygments_lexer": "ipython3",
   "version": "3.9.12"
  }
 },
 "nbformat": 4,
 "nbformat_minor": 5
}
