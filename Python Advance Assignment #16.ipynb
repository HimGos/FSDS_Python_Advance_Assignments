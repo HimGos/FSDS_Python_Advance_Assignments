{
 "cells": [
  {
   "cell_type": "markdown",
   "id": "9bc4267c",
   "metadata": {},
   "source": [
    "### Q1. What is the benefit of regular expressions?"
   ]
  },
  {
   "cell_type": "code",
   "execution_count": null,
   "id": "9cfe0f1d",
   "metadata": {},
   "outputs": [],
   "source": [
    "Regular Expressions, also known as “regex” or “regexp”, are used to match strings of text such as particular characters, words, or patterns of characters. It means that we can match and extract any string pattern from the text with the help of regular expressions.\n",
    "\n",
    "Regex helps the programmers to Write less and cleaner code. it also avoids multiple use of if/else statements. Regular expressions are a powerful feature of any language and solve a particular class of problems extraordinarily well. They can be used to validate user input, extract relevant data from a string, or even modify a string based on its contents.\n"
   ]
  },
  {
   "cell_type": "markdown",
   "id": "775d5584",
   "metadata": {},
   "source": [
    "# "
   ]
  },
  {
   "cell_type": "markdown",
   "id": "9cbfbbad",
   "metadata": {},
   "source": [
    "### Q2. Describe the difference between the effects of \"(ab)c+\" and \"a(bc)+\" . Which of these, if any, is the unqualified pattern \"abc+\"?"
   ]
  },
  {
   "cell_type": "code",
   "execution_count": null,
   "id": "b0f23666",
   "metadata": {},
   "outputs": [],
   "source": [
    "The difference between both these patterns is that in (ab)c+ ab is a group whereas in a(bc)+ bc is a group. Capturing groups are a way to treat multiple characters as a single unit. They are created by placing the characters to be grouped inside a set of parentheses.\n",
    "\n",
    "Also both of them are valid patterns."
   ]
  },
  {
   "cell_type": "markdown",
   "id": "f7328e51",
   "metadata": {},
   "source": [
    "# "
   ]
  },
  {
   "cell_type": "markdown",
   "id": "7680737b",
   "metadata": {},
   "source": [
    "### Q3. How much do you need to use the following sentence while using regular expressions?\n",
    "\n",
    "import re"
   ]
  },
  {
   "cell_type": "code",
   "execution_count": null,
   "id": "a9c4642d",
   "metadata": {},
   "outputs": [],
   "source": [
    "Just once while importing re library. We can use it at the beginning once and can use it as much we wish throughout the code."
   ]
  },
  {
   "cell_type": "markdown",
   "id": "00a4ec9b",
   "metadata": {},
   "source": [
    "# "
   ]
  },
  {
   "cell_type": "markdown",
   "id": "07115bd6",
   "metadata": {},
   "source": [
    "### Q4. Which characters have special significance in square brackets when expressing a range, and under what circumstances?"
   ]
  },
  {
   "cell_type": "code",
   "execution_count": null,
   "id": "ccd8cb8a",
   "metadata": {},
   "outputs": [],
   "source": [
    "Metacharacters like ->  . ^ $ * + ?   <- have special significance in square brackets. They need not be be explicitly escaped by \\ as in case of pattern texts in a raw string.\n",
    "\n",
    "Range in regex can be expressed by two characters separated by a '-'. Eg, [a-f] lowercase characters from a to f.\n",
    "[1-5][0-9] will match two digit number from 10 to 59."
   ]
  },
  {
   "cell_type": "markdown",
   "id": "6e0abfad",
   "metadata": {},
   "source": [
    "# "
   ]
  },
  {
   "cell_type": "markdown",
   "id": "7b0c991d",
   "metadata": {},
   "source": [
    "### Q5. How does compiling a regular-expression object benefit you?"
   ]
  },
  {
   "cell_type": "code",
   "execution_count": null,
   "id": "5f7a3f28",
   "metadata": {},
   "outputs": [],
   "source": [
    "We can Combine a regular expression pattern into pattern Objects which can be used for pattern matching. It also helps to search a pattern again without rewriting it."
   ]
  },
  {
   "cell_type": "markdown",
   "id": "b2c70f83",
   "metadata": {},
   "source": [
    "# "
   ]
  },
  {
   "cell_type": "markdown",
   "id": "ab95cdc5",
   "metadata": {},
   "source": [
    "### Q6. What are some examples of how to use the match object returned by re.match and re.search?"
   ]
  },
  {
   "cell_type": "code",
   "execution_count": null,
   "id": "f553249c",
   "metadata": {},
   "outputs": [],
   "source": [
    "Both re.match() and re.search() are very effective methods for searching a pattern/substring in a string.\n",
    "\n",
    "Only difference is re.match() checks for a match only at the beginning of the string, while re.search() checks for a match anywhere in the string. The function searches for some substring in a string and returns a match object if found, else it returns none.\n"
   ]
  },
  {
   "cell_type": "code",
   "execution_count": 1,
   "id": "81150476",
   "metadata": {},
   "outputs": [
    {
     "name": "stdout",
     "output_type": "stream",
     "text": [
      "<re.Match object; span=(40, 46), match='batman'>\n",
      "None\n",
      "<re.Match object; span=(0, 6), match='batman'>\n",
      "<re.Match object; span=(0, 6), match='batman'>\n"
     ]
    }
   ],
   "source": [
    "import re\n",
    "\n",
    "Sub = 'batman' \n",
    "St1 = 'DC has a few lead heroes like superman, batman and wonderwoman.' \n",
    "St2 = 'batman is the best tactician among all DC heroes.'\n",
    "\n",
    "print(re.search(Sub, St1, re.IGNORECASE))\n",
    "print(re.match(Sub, St1, re.IGNORECASE))\n",
    "\n",
    "print(re.search(Sub, St2, re.IGNORECASE))\n",
    "print(re.match(Sub, St2, re.IGNORECASE))"
   ]
  },
  {
   "cell_type": "markdown",
   "id": "c470567e",
   "metadata": {},
   "source": [
    "# "
   ]
  },
  {
   "cell_type": "markdown",
   "id": "c458a14a",
   "metadata": {},
   "source": [
    "### Q7. What is the difference between using a vertical bar (|) as an alteration and using square brackets as a character set?"
   ]
  },
  {
   "cell_type": "code",
   "execution_count": null,
   "id": "a3df1322",
   "metadata": {},
   "outputs": [],
   "source": [
    "When | us used then patterns searches for or option. i.e <pattern_1>|<pattern_2> means it searches as <pattern_1>or<<pattern_2> in the searched string. The first occurance of matched string will be returned as the Match Object. Using Character set in square Brackets searches for all the character set in the square bracket and if match is found, it returns it."
   ]
  },
  {
   "cell_type": "markdown",
   "id": "d1ba7cb7",
   "metadata": {},
   "source": [
    "# "
   ]
  },
  {
   "cell_type": "markdown",
   "id": "dad3fdd9",
   "metadata": {},
   "source": [
    "### Q8. In regular-expression search patterns, why is it necessary to use the raw-string indicator (r)? In  replacement strings?"
   ]
  },
  {
   "cell_type": "code",
   "execution_count": null,
   "id": "97ca04ab",
   "metadata": {},
   "outputs": [],
   "source": [
    "To stop the escape by '\\' while writing special or metacharacters in our search pattern."
   ]
  }
 ],
 "metadata": {
  "kernelspec": {
   "display_name": "Python 3 (ipykernel)",
   "language": "python",
   "name": "python3"
  },
  "language_info": {
   "codemirror_mode": {
    "name": "ipython",
    "version": 3
   },
   "file_extension": ".py",
   "mimetype": "text/x-python",
   "name": "python",
   "nbconvert_exporter": "python",
   "pygments_lexer": "ipython3",
   "version": "3.9.12"
  }
 },
 "nbformat": 4,
 "nbformat_minor": 5
}
