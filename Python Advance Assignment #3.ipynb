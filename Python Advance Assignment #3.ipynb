{
 "cells": [
  {
   "cell_type": "code",
   "execution_count": 1,
   "id": "6fdc2782",
   "metadata": {},
   "outputs": [],
   "source": [
    "# Q1. What is the concept of an abstract superclass?"
   ]
  },
  {
   "cell_type": "code",
   "execution_count": null,
   "id": "7d837f74",
   "metadata": {},
   "outputs": [],
   "source": [
    "Abstract superclass helps with code-reusability. Since it can't be instantiated, thus is can't be altered. \n",
    "subclasses become more concrete using abstract superclass."
   ]
  },
  {
   "cell_type": "code",
   "execution_count": null,
   "id": "631bdd79",
   "metadata": {},
   "outputs": [],
   "source": []
  },
  {
   "cell_type": "code",
   "execution_count": 2,
   "id": "1b4ef415",
   "metadata": {},
   "outputs": [],
   "source": [
    "# Q2. What happens when a class statement's top level contains a basic assignment statement?"
   ]
  },
  {
   "cell_type": "code",
   "execution_count": null,
   "id": "036fa2d4",
   "metadata": {},
   "outputs": [],
   "source": [
    "That basic assignment is then become class variable "
   ]
  },
  {
   "cell_type": "code",
   "execution_count": null,
   "id": "a889d67c",
   "metadata": {},
   "outputs": [],
   "source": []
  },
  {
   "cell_type": "code",
   "execution_count": 3,
   "id": "052adbf1",
   "metadata": {},
   "outputs": [],
   "source": [
    "# Q3. Why does a class need to manually call a superclass's __init__ method?"
   ]
  },
  {
   "cell_type": "code",
   "execution_count": null,
   "id": "4fa15f68",
   "metadata": {},
   "outputs": [],
   "source": [
    "Because by default child class __init__ method is called. \n",
    "If we wish to call parent class init too then we need to call it this way... super().__init__()"
   ]
  },
  {
   "cell_type": "code",
   "execution_count": null,
   "id": "1c851518",
   "metadata": {},
   "outputs": [],
   "source": []
  },
  {
   "cell_type": "code",
   "execution_count": 4,
   "id": "c8e4728c",
   "metadata": {},
   "outputs": [],
   "source": [
    "# Q4. How can you augment, instead of completely replacing, an inherited method?"
   ]
  },
  {
   "cell_type": "code",
   "execution_count": null,
   "id": "5040dd45",
   "metadata": {},
   "outputs": [],
   "source": [
    "parentclass.method()\n",
    "\n",
    "This will call inherited method even if method overriding concept is going on."
   ]
  },
  {
   "cell_type": "code",
   "execution_count": null,
   "id": "089edf55",
   "metadata": {},
   "outputs": [],
   "source": []
  },
  {
   "cell_type": "code",
   "execution_count": 5,
   "id": "73d3dd2c",
   "metadata": {},
   "outputs": [],
   "source": [
    "# Q5. How is the local scope of a class different from that of a function?"
   ]
  },
  {
   "cell_type": "code",
   "execution_count": null,
   "id": "7a2973d6",
   "metadata": {},
   "outputs": [],
   "source": [
    "local scope of class means the scope within the complete class.\n",
    "There are functions within class and their local scope is within that function only.\n",
    "Now there are many functions within the class, so if there is any class variable then it's scope is in complete class.\n",
    "It can be used in any function within the class and in any functions of class."
   ]
  }
 ],
 "metadata": {
  "kernelspec": {
   "display_name": "Python 3 (ipykernel)",
   "language": "python",
   "name": "python3"
  },
  "language_info": {
   "codemirror_mode": {
    "name": "ipython",
    "version": 3
   },
   "file_extension": ".py",
   "mimetype": "text/x-python",
   "name": "python",
   "nbconvert_exporter": "python",
   "pygments_lexer": "ipython3",
   "version": "3.9.12"
  }
 },
 "nbformat": 4,
 "nbformat_minor": 5
}
