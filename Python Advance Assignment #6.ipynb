{
 "cells": [
  {
   "cell_type": "markdown",
   "id": "aed329b3",
   "metadata": {},
   "source": [
    "### Q1. Describe three applications for exception processing."
   ]
  },
  {
   "cell_type": "code",
   "execution_count": null,
   "id": "a0d90f1f",
   "metadata": {},
   "outputs": [],
   "source": [
    "1. Checking Appropriate use of input in an application\n",
    "2. Checking for Arithmetic exceptions in mathematical executions\n",
    "3. Checking File I/O exceptions during File handling"
   ]
  },
  {
   "cell_type": "markdown",
   "id": "8f57e313",
   "metadata": {},
   "source": [
    "# "
   ]
  },
  {
   "cell_type": "markdown",
   "id": "f7bdc31b",
   "metadata": {},
   "source": [
    "### Q2. What happens if you don't do something extra to treat an exception?"
   ]
  },
  {
   "cell_type": "code",
   "execution_count": null,
   "id": "72670161",
   "metadata": {},
   "outputs": [],
   "source": [
    "Whenever we miss this step and get an error, python program stops whenever error comes up that means rest of the code will\n",
    "not be interpreted. If our program has 10 major result points and we get error on 4th then other 6 will not give any result \n",
    "because of one error. "
   ]
  },
  {
   "cell_type": "markdown",
   "id": "eeebf136",
   "metadata": {},
   "source": [
    "# "
   ]
  },
  {
   "cell_type": "markdown",
   "id": "5344974a",
   "metadata": {},
   "source": [
    "### Q3. What are your options for recovering from an exception in your script?"
   ]
  },
  {
   "cell_type": "code",
   "execution_count": null,
   "id": "dcdc3701",
   "metadata": {},
   "outputs": [],
   "source": [
    "Python has provided us with try and except keywords which are designed for handling exception."
   ]
  },
  {
   "cell_type": "code",
   "execution_count": 1,
   "id": "6f719e72",
   "metadata": {},
   "outputs": [
    {
     "name": "stdout",
     "output_type": "stream",
     "text": [
      "There is no test method so we will get except executed and flow continues\n"
     ]
    }
   ],
   "source": [
    "try:\n",
    "    print(a.test())\n",
    "except:\n",
    "    print(\"There is no test method so we will get except executed and flow continues\")"
   ]
  },
  {
   "cell_type": "markdown",
   "id": "1ac87d14",
   "metadata": {},
   "source": [
    "# "
   ]
  },
  {
   "cell_type": "markdown",
   "id": "3b9426bc",
   "metadata": {},
   "source": [
    "### Q4. Describe two methods for triggering exceptions in your script."
   ]
  },
  {
   "cell_type": "code",
   "execution_count": null,
   "id": "6bfdee3f",
   "metadata": {},
   "outputs": [],
   "source": [
    "raise & assert are the two methods for triggering exceptions in script.\n",
    "\n",
    "assert: Used when we want to stop the script based on a certain condition and return something to debug faster.\n",
    "raise : To be used with try except block. Whenever condition passed to it get's true it throws exception."
   ]
  },
  {
   "cell_type": "markdown",
   "id": "07d6bda0",
   "metadata": {},
   "source": [
    "# "
   ]
  },
  {
   "cell_type": "markdown",
   "id": "557d5262",
   "metadata": {},
   "source": [
    "### Q5. Identify two methods for specifying actions to be executed at termination time, regardless of whether or not an exception exists."
   ]
  },
  {
   "cell_type": "code",
   "execution_count": null,
   "id": "6b933cb9",
   "metadata": {},
   "outputs": [],
   "source": [
    "finally and else blocks makes it happen."
   ]
  }
 ],
 "metadata": {
  "kernelspec": {
   "display_name": "Python 3 (ipykernel)",
   "language": "python",
   "name": "python3"
  },
  "language_info": {
   "codemirror_mode": {
    "name": "ipython",
    "version": 3
   },
   "file_extension": ".py",
   "mimetype": "text/x-python",
   "name": "python",
   "nbconvert_exporter": "python",
   "pygments_lexer": "ipython3",
   "version": "3.9.12"
  }
 },
 "nbformat": 4,
 "nbformat_minor": 5
}
