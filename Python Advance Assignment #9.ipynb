{
 "cells": [
  {
   "cell_type": "markdown",
   "id": "9449c23f",
   "metadata": {},
   "source": [
    "### Q1. In Python 3.X, what are the names and functions of string object types?"
   ]
  },
  {
   "cell_type": "code",
   "execution_count": null,
   "id": "44c72970",
   "metadata": {},
   "outputs": [],
   "source": [
    "The following are the names and functions of string object types in Python 3.X\n",
    "\n",
    "<stirng>.isdecimal() -> Returns True if all characters in a string are decimal.\n",
    "<string>.isalnum() -> Returns True if all characters in the string are AlphaNumeric.\n",
    "<string>.istitle() -> Returns True if first character in a string is in Uppercase.\n",
    "<string>.partition(<sub_string>) -> Splits string at first occurance of sub string and returns a tuple of 3 elements.\n",
    "<string>.rpartition(<sub_string>) -> Splits string at last occurance of sub string and returns a tuple of 3 elements.\n",
    "<string>.isidentifier() -> Returns True if give string is a valid identifier name.\n",
    "len(<string>) -> Returns the length of the given string.\n",
    "<string>.index(<sub_string>) -> Returns the lowest index of substring if substring is found in the string.\n",
    "<string>.rindex(<sub_string>) -> Returns the highest index of substring if substring is found in the string.\n",
    "max(<string>) -> Returns the highest Alphabetical Character in the string as per ASCII.\n",
    "min(<string>) -> Returns the lowest Alphabetical Character in the string as per ASCII.\n",
    "<string>.splitlines() -> Returns a list of lines in the string.\n",
    "<string>.capitalize() -> Returns the string with first character capitalized.\n",
    "<string>.upper() -> Returns the string with all characters in uppercase.\n",
    "<string>.lower() -> Returns the string with all characters in lowercase\n",
    "<string>.casefold() -> Returns the string in lowercase which can be used for caseless comparisions.\n",
    "<string>.expandtabs(no_of_spaces) -> Replaces tabs in a string with specified no of spaces default is 8\n",
    "<string>.find(<sub_string>) -> Returns lowest index of substring if substring is found in the string else returns -1.\n",
    "<string>.rfind(<sub_string>) -> Returns highest index of substring if substring is found in the string else returns -1.\n",
    "<string>.count(<char>) -> Returns the no of occurances of the char in the given string.\n",
    "<string>.split(<sep>) -> Returns list of words seperated by given sep else seperated by whitespace.\n",
    "<string>.rsplit(<sep>) -> Returns list of words seperated by given sep else seperated by whitespace scanning from end.\n",
    "<string>.lstrip() -> Returns a copy of where leading whitespaces are removed.\n",
    "<string>.rstrip() -> Returns a copy of where trailed whitespaces are removed.\n",
    "<string>.strip() -> Returns a copy of where both leading and trailing whitespaces are removed.\n",
    "<string>.swapcase() -> Swaps lowercase characters with uppercase and vice versa.\n",
    "<sep>.join(<list>) -> Concatenates a list or tuple of words with intervening occuernces of sep.\n",
    "<string>.translate(<mapping_table>) -> translates the characters using table.\n",
    "<string>.maketrans(<dict>) -> Creating a mapping translation tbale usable for <string>.translate(<mapping_table>)\n",
    "<string>.replace(<char_1>,<char_2>) -> Replace all occurances of char_1 with char_2 in string.\n",
    "<string>.encode() -> Encodes string into any encoding supported by python. Default encoding is UTF-8.\n",
    "<string>.ljust(<no_of_spaces>) -> Left-justify in a field of given width.\n",
    "<string>.rjust(<no_of_spaces>) -> Right-justify in a field of given width.\n",
    "<string>.center(<no_of_spaces>) -> Center-justify in a field of given width.\n",
    "<stirng>.zfill(<length>) -> Zfill adds zeros to the begining of string until the specified length is reached."
   ]
  },
  {
   "cell_type": "markdown",
   "id": "7f69e738",
   "metadata": {},
   "source": [
    "# "
   ]
  },
  {
   "cell_type": "markdown",
   "id": "a1310bfe",
   "metadata": {},
   "source": [
    "### Q2. How do the string forms in Python 3.X vary in terms of operations?"
   ]
  },
  {
   "cell_type": "code",
   "execution_count": null,
   "id": "bbba6f9f",
   "metadata": {},
   "outputs": [],
   "source": [
    " In Python3 default format of strings is Unicode whereas in Pyton2 we need to explicitly mention Unicode value using u."
   ]
  },
  {
   "cell_type": "markdown",
   "id": "23e051ec",
   "metadata": {},
   "source": [
    "### "
   ]
  },
  {
   "cell_type": "markdown",
   "id": "376736b0",
   "metadata": {},
   "source": [
    "### Q3. In 3.X, how do you put non-ASCII Unicode characters in a string?"
   ]
  },
  {
   "cell_type": "code",
   "execution_count": null,
   "id": "4a7d08e5",
   "metadata": {},
   "outputs": [],
   "source": [
    "We can import unidecode library to to put non-ASCII unicode characters."
   ]
  },
  {
   "cell_type": "code",
   "execution_count": 2,
   "id": "369948e7",
   "metadata": {},
   "outputs": [
    {
     "name": "stdout",
     "output_type": "stream",
     "text": [
      "jb aap koii bhaassaa ko siikhte haiN\n",
      "Jue Dui Bu Shi . \n"
     ]
    }
   ],
   "source": [
    "from unidecode import unidecode\n",
    "print(unidecode(\"जब आप कोई भाषा को सीखते हैं\"))\n",
    "print(unidecode(\"绝对不是。\"))"
   ]
  },
  {
   "cell_type": "markdown",
   "id": "de1cd135",
   "metadata": {},
   "source": [
    "# "
   ]
  },
  {
   "cell_type": "markdown",
   "id": "c5282f1b",
   "metadata": {},
   "source": [
    "### Q4. In Python 3.X, what are the key differences between text-mode and binary-mode files?"
   ]
  },
  {
   "cell_type": "code",
   "execution_count": null,
   "id": "0f6f9115",
   "metadata": {},
   "outputs": [],
   "source": [
    "The major difference between these two is that a text file contains textual information in the form of alphabets, digits and special characters or symbols. \n",
    "On the other hand, a binary file contains bytes or a compiled version of a text file.\n",
    "\n",
    "When a file is opened in text mode, reading its data automatically decodes its content (as per the platform default or as per provided encoding), and returns it as a str.\n",
    "\n",
    "When a file is opened in binary mode by adding a b to the mode string argument in the open() call, reading its data does not decode it in any way, and simply returns its content raw and unchanged, as a bytes object."
   ]
  },
  {
   "cell_type": "markdown",
   "id": "5b6bb390",
   "metadata": {},
   "source": [
    "# "
   ]
  },
  {
   "cell_type": "markdown",
   "id": "5403be74",
   "metadata": {},
   "source": [
    "### Q5. How can you interpret a Unicode text file containing text encoded in a different encoding than your platform's default?"
   ]
  },
  {
   "cell_type": "code",
   "execution_count": null,
   "id": "b22fbd7b",
   "metadata": {},
   "outputs": [],
   "source": [
    "Use of encode() and decode() method can be used to you interpret a Unicode text file containing text encoded in a different encoding than your platform's default, by default encoding parameter is UTF-8"
   ]
  },
  {
   "cell_type": "markdown",
   "id": "c2ecbc6a",
   "metadata": {},
   "source": [
    "# "
   ]
  },
  {
   "cell_type": "markdown",
   "id": "b2344a4a",
   "metadata": {},
   "source": [
    "### Q6. What is the best way to make a Unicode text file in a particular encoding format?"
   ]
  },
  {
   "cell_type": "code",
   "execution_count": null,
   "id": "dfe5f4f4",
   "metadata": {},
   "outputs": [],
   "source": [
    "USE str.encode() AND file.write() to make a unicode text file in a particular encoding format.\n",
    "\n",
    "Steps:-\n",
    "1. Call str.encode(encoding) with encoding set to \"utf8\" to encode str. \n",
    "2. Call open(file, mode) to open a file with mode set to \"wb\" . \"wb\" writes to files in binary mode and preserves UTF-8 format.\n",
    "3. Call file.write(data) to write data to the file."
   ]
  },
  {
   "cell_type": "code",
   "execution_count": null,
   "id": "7b19004b",
   "metadata": {},
   "outputs": [],
   "source": [
    "text = u\"ਤੁਹਾਨੂੰ ਮਿਲ ਕੇ ਖੁਸ਼ੀ ਹੋਈ\"\n",
    "encode_text = text.encode(\"utf-8\")\n",
    "\n",
    "file = open('otherfile.txt','wb')\n",
    "file.write(encode_text)\n",
    "file.close()\n",
    "\n",
    "read_file = open('otherfile.txt','r')\n",
    "rec = read_file.read()\n",
    "print(rec)"
   ]
  },
  {
   "cell_type": "markdown",
   "id": "d1334906",
   "metadata": {},
   "source": [
    "# "
   ]
  },
  {
   "cell_type": "markdown",
   "id": "dd0083ef",
   "metadata": {},
   "source": [
    "### Q7. What qualifies ASCII text as a form of Unicode text?"
   ]
  },
  {
   "cell_type": "code",
   "execution_count": null,
   "id": "9a0aed6c",
   "metadata": {},
   "outputs": [],
   "source": [
    "Unicode represents most written languages in the world. ASCII has its equivalent in Unicode. The difference between ASCII and Unicode is that ASCII represents lowercase letters (a-z), uppercase letters (A-Z), digits (0–9) and symbols such as punctuation marks while Unicode represents letters of English, Arabic, Greek etc. mathematical symbols, historical scripts, emoji covering a wide range of characters than ASCII."
   ]
  },
  {
   "cell_type": "markdown",
   "id": "29b505fa",
   "metadata": {},
   "source": [
    "# "
   ]
  },
  {
   "cell_type": "markdown",
   "id": "e76a8ad8",
   "metadata": {},
   "source": [
    "### Q8. How much of an effect does the change in string types in Python 3.X have on your code?"
   ]
  },
  {
   "cell_type": "code",
   "execution_count": null,
   "id": "e8a44c4b",
   "metadata": {},
   "outputs": [],
   "source": [
    "Python 3 stores strings as Unicode by default whereas Python 2 requires you to mark a string with a u if we want to store it as Unicode. Unicode strings are more versatile than ASCII strings, which are the Python 3.X default, as they can store letters from foreign languages as well as emoji and the standard Roman letters and numerals."
   ]
  }
 ],
 "metadata": {
  "kernelspec": {
   "display_name": "Python 3 (ipykernel)",
   "language": "python",
   "name": "python3"
  },
  "language_info": {
   "codemirror_mode": {
    "name": "ipython",
    "version": 3
   },
   "file_extension": ".py",
   "mimetype": "text/x-python",
   "name": "python",
   "nbconvert_exporter": "python",
   "pygments_lexer": "ipython3",
   "version": "3.9.12"
  }
 },
 "nbformat": 4,
 "nbformat_minor": 5
}
